{
 "cells": [
  {
   "cell_type": "markdown",
   "id": "863c3421",
   "metadata": {},
   "source": [
    "# Implementation"
   ]
  },
  {
   "cell_type": "raw",
   "id": "2034714c",
   "metadata": {},
   "source": [
    "Algorithm:-\n",
    "\n",
    "A) Distance\n",
    "1. Find distance between all training images and query image. All training images from training set needed for this. \n",
    "Selected query image from testing set. \n",
    "2. Distance found using distance metric = euclidean. Other distance metrics: manhattan, minkowski etc. Manhattan generally used for large dimensions. Image data can be represented in 2 dimensions, hence euclidean would be better fit.\n",
    "3. Custom euclidean function created. The distance measured are the distances between all training nodes. In this, a scattered cluster of image data (as a vector) represents one node. Distances between all points of all nodes and all points of query image found. Target: Closest node distances to query image.\n",
    "\n",
    "B) Nearest Neighbors\n",
    "1. Set of nodes having closest distances obtained. Selecting a 'k' value, nearest k nodes are found out. An odd value for k is preferable to avoid a clash in predicting class of query image.\n",
    "2. Custom nearest neighbors function created. Converted matrix image data to numpy array and sorted the same. Finding 'k' no. of nodes closest to query image.\n",
    "\n",
    "C) Prediction\n",
    "1. We know the classes (labels) of all training image nodes (y_train). Using the same, we find the labels of the nearest neighbors found using the previous function. The class occuring with highest frequency can be assigned hence to the query image.\n",
    "\n",
    "Finding accuracy:-\n",
    "\n",
    "1. We have the testing set data (X_test), with corresponding ground truth labels (y_test). \n",
    "\n",
    "Accuracy = (no. of correct classfications)/(total no. of classifications)\n",
    "\n",
    "2. Correct classifications can be found: compare predicted class found by the 'queryImagePredictedClass()' function with ground truth (y_test). Count no. of correct predictions (will be <10,000).\n",
    "3. Total classifications: Is the total no of testing data points present (i.e., 10,000)."
   ]
  },
  {
   "cell_type": "code",
   "execution_count": 20,
   "id": "55d5a043",
   "metadata": {},
   "outputs": [],
   "source": [
    "from tensorflow.keras.datasets import mnist\n",
    "import numpy as np\n",
    "from statistics import mode"
   ]
  },
  {
   "cell_type": "code",
   "execution_count": 21,
   "id": "005cc44f",
   "metadata": {},
   "outputs": [],
   "source": [
    "(X_train, y_train),(X_test, y_test) = mnist.load_data()"
   ]
  },
  {
   "cell_type": "code",
   "execution_count": 22,
   "id": "ac543b02",
   "metadata": {},
   "outputs": [
    {
     "name": "stdout",
     "output_type": "stream",
     "text": [
      "(60000, 784)\n",
      "(10000, 784)\n"
     ]
    }
   ],
   "source": [
    "X_train_reshape = X_train.reshape(60000, 28*28)\n",
    "print(X_train_reshape.shape)\n",
    "\n",
    "X_test_reshape = X_test.reshape(10000, 28*28)\n",
    "print(X_test_reshape.shape)"
   ]
  },
  {
   "cell_type": "code",
   "execution_count": 23,
   "id": "d012e810",
   "metadata": {},
   "outputs": [],
   "source": [
    "imagesClasses = [(X_train_reshape, y_train) for i in range(len(y_train)-1)]"
   ]
  },
  {
   "cell_type": "code",
   "execution_count": 24,
   "id": "9a2a40c3",
   "metadata": {},
   "outputs": [],
   "source": [
    "def euclidean_dist(set1, set2):\n",
    "    dist = 0\n",
    "    for i in range(0, len(set1)-1):\n",
    "        dist += np.sqrt((set1[i] - set2)**2)\n",
    "    return dist"
   ]
  },
  {
   "cell_type": "code",
   "execution_count": 25,
   "id": "13a08808",
   "metadata": {},
   "outputs": [],
   "source": [
    "def nearest_neighbors(k, smallestDists):\n",
    "    smallestDists = np.array(smallestDists)\n",
    "    sortedSmallestDists = np.argsort(smallestDists)\n",
    "    smallestDists[sortedSmallestDists]\n",
    "    k_smallestDists = []\n",
    "    for i in range(0, (k-1)):\n",
    "        k_smallestDists.append(smallestDists[i])\n",
    "    return k_smallestDists"
   ]
  },
  {
   "cell_type": "code",
   "execution_count": 26,
   "id": "82f83ebf",
   "metadata": {},
   "outputs": [],
   "source": [
    "def queryImagePredictedClass(k, sortedSmallestDist):\n",
    "    smallestDistClasses = []\n",
    "    for i in range(len(sortedSmallestDist)-1):\n",
    "        smallestDistClasses.append(sortedSmallestDist[i])\n",
    "    mostFrequentClass = mode(smallestDistClasses)\n",
    "    return mostFrequentClass"
   ]
  },
  {
   "cell_type": "code",
   "execution_count": 27,
   "id": "cefcd55f",
   "metadata": {},
   "outputs": [
    {
     "ename": "MemoryError",
     "evalue": "Unable to allocate 68.7 GiB for an array with shape (59999, 784, 784) and data type float16",
     "output_type": "error",
     "traceback": [
      "\u001b[1;31m---------------------------------------------------------------------------\u001b[0m",
      "\u001b[1;31mMemoryError\u001b[0m                               Traceback (most recent call last)",
      "Input \u001b[1;32mIn [27]\u001b[0m, in \u001b[0;36m<cell line: 6>\u001b[1;34m()\u001b[0m\n\u001b[0;32m      4\u001b[0m \u001b[38;5;66;03m#nearest neighbors to query image\u001b[39;00m\n\u001b[0;32m      5\u001b[0m dists \u001b[38;5;241m=\u001b[39m [distsTuple[i][\u001b[38;5;241m0\u001b[39m] \u001b[38;5;28;01mfor\u001b[39;00m i \u001b[38;5;129;01min\u001b[39;00m \u001b[38;5;28mrange\u001b[39m(\u001b[38;5;28mlen\u001b[39m(distsTuple)\u001b[38;5;241m-\u001b[39m\u001b[38;5;241m1\u001b[39m)]\n\u001b[1;32m----> 6\u001b[0m nearestNeighbors \u001b[38;5;241m=\u001b[39m \u001b[43mnearest_neighbors\u001b[49m\u001b[43m(\u001b[49m\u001b[38;5;241;43m5\u001b[39;49m\u001b[43m,\u001b[49m\u001b[43m \u001b[49m\u001b[43mdists\u001b[49m\u001b[43m)\u001b[49m \u001b[38;5;66;03m# selecting k=5, odd no of nodes\u001b[39;00m\n\u001b[0;32m      7\u001b[0m \u001b[38;5;28mprint\u001b[39m(nearestNeighbors)\n",
      "Input \u001b[1;32mIn [25]\u001b[0m, in \u001b[0;36mnearest_neighbors\u001b[1;34m(k, smallestDists)\u001b[0m\n\u001b[0;32m      2\u001b[0m smallestDists \u001b[38;5;241m=\u001b[39m np\u001b[38;5;241m.\u001b[39marray(smallestDists)\n\u001b[0;32m      3\u001b[0m sortedSmallestDists \u001b[38;5;241m=\u001b[39m np\u001b[38;5;241m.\u001b[39margsort(smallestDists)\n\u001b[1;32m----> 4\u001b[0m \u001b[43msmallestDists\u001b[49m\u001b[43m[\u001b[49m\u001b[43msortedSmallestDists\u001b[49m\u001b[43m]\u001b[49m\n\u001b[0;32m      5\u001b[0m k_smallestDists \u001b[38;5;241m=\u001b[39m []\n\u001b[0;32m      6\u001b[0m \u001b[38;5;28;01mfor\u001b[39;00m i \u001b[38;5;129;01min\u001b[39;00m \u001b[38;5;28mrange\u001b[39m(\u001b[38;5;241m0\u001b[39m, (k\u001b[38;5;241m-\u001b[39m\u001b[38;5;241m1\u001b[39m)):\n",
      "\u001b[1;31mMemoryError\u001b[0m: Unable to allocate 68.7 GiB for an array with shape (59999, 784, 784) and data type float16"
     ]
    }
   ],
   "source": [
    "#distances between training images and a random query image from testing set\n",
    "distsTuple = [(euclidean_dist(X_train_reshape[i], X_test_reshape[1]), i+1) for i in range(len(X_train_reshape))]\n",
    "\n",
    "#nearest neighbors to query image\n",
    "dists = [distsTuple[i][0] for i in range(len(distsTuple)-1)]\n",
    "nearestNeighbors = nearest_neighbors(5, dists) # selecting k=5, odd no of nodes\n",
    "print(nearestNeighbors)\n"
   ]
  },
  {
   "cell_type": "markdown",
   "id": "08864043",
   "metadata": {},
   "source": [
    "# Explanation"
   ]
  },
  {
   "cell_type": "raw",
   "id": "611ccb16",
   "metadata": {},
   "source": [
    "Pre-processing:\n",
    "Original shape of training and testing data is (60000,28,28) and (10000,28,28) respectively.\n",
    "Needed to reshape both to (60000,28*28) and (10000,28*28) respectively for feeding into sklearn.\n",
    "\n",
    "Model fitting and prediction:\n",
    "Parameter specification which gives the max accuracy as of yet.\n",
    "\n",
    "Visualizing results:\n",
    "Displays training images, while the title shows KNN's prediction for the training images.\n",
    "\n",
    "Rough space:\n",
    "Process I undertook to get to the updated max accuracy. \n",
    "- Firstly, tried the eucleadean metric, followed by the manhattan metric for a range of nodes from 1 to 30. Tried the eucleadean metric with a similar range of nodes as well, found 3 nodes consideration gives the best result [More nodes -> more generalized model].\n",
    "- Tried cross-validation with folds ranging from 5 to 10 (default folds = 5), to see if shuffling training and testing data improves accuracy.\n",
    "- Trying grid search with changing following parameters:\n",
    "> nodes: 2, 3, 4 and 5\n",
    "> weights: uniform and distance(closer points have more weight in prediction)\n",
    "> algorithm: ball tree and k-dimensional tree (brute force also an option, but does not apply to our dataset, hence discarded)\n",
    "> metric: eucleadean and manhattan\n",
    "> leaf size (for ball tree and k-dimensional tree): 15, 20 and 30 (default is 30)\n",
    "\n",
    "Sources used:\n",
    "1. Data Science Stack Exchange\n",
    "2. Stackoverflow\n",
    "3. The 'Machine Learning Mastery' website and blogs - by Jason Brownlee\n",
    "4. tensorflow and keras documentation\n",
    "5. scikit-learn documentation\n",
    "6. GeeksforGeeks website and blogs\n",
    "7. Personal notes from 'Data Science using Python' and 'ML using Python' courses"
   ]
  },
  {
   "cell_type": "markdown",
   "id": "c9453146",
   "metadata": {},
   "source": [
    "# Loading dataset"
   ]
  },
  {
   "cell_type": "code",
   "execution_count": 12,
   "id": "1f003414",
   "metadata": {},
   "outputs": [],
   "source": [
    "from tensorflow.keras.datasets import mnist\n",
    "import numpy as np\n",
    "import matplotlib.pyplot as plt\n",
    "import seaborn as sns\n",
    "import sklearn.neighbors as NearestNeighbors \n",
    "from sklearn.model_selection import cross_val_score\n",
    "from sklearn.model_selection import GridSearchCV"
   ]
  },
  {
   "cell_type": "code",
   "execution_count": 2,
   "id": "c93a8569",
   "metadata": {},
   "outputs": [],
   "source": [
    "(X_train, y_train),(X_test, y_test) = mnist.load_data()"
   ]
  },
  {
   "cell_type": "code",
   "execution_count": 3,
   "id": "c937517a",
   "metadata": {},
   "outputs": [
    {
     "name": "stdout",
     "output_type": "stream",
     "text": [
      "(60000, 28, 28) (60000,) (10000, 28, 28) (60000,)\n"
     ]
    }
   ],
   "source": [
    "print(X_train.shape, y_train.shape, X_test.shape, y_train.shape)"
   ]
  },
  {
   "cell_type": "code",
   "execution_count": 4,
   "id": "6e7b73fc",
   "metadata": {},
   "outputs": [],
   "source": [
    "# X_train_resize = np.resize(X_train, (60000, 28*28))\n",
    "# print(X_train_resize.shape)"
   ]
  },
  {
   "cell_type": "code",
   "execution_count": 9,
   "id": "9daa794d",
   "metadata": {},
   "outputs": [
    {
     "data": {
      "text/plain": [
       "array([[  0,   0,   0,   0,   0,   0,   0,   0,   0,   0,   0,   0,   0,\n",
       "          0,   0,   0,   0,   0,   0,   0,   0,   0,   0,   0,   0,   0,\n",
       "          0,   0],\n",
       "       [  0,   0,   0,   0,   0,   0,   0,   0,   0,   0,   0,   0,   0,\n",
       "          0,   0,   0,   0,   0,   0,   0,   0,   0,   0,   0,   0,   0,\n",
       "          0,   0],\n",
       "       [  0,   0,   0,   0,   0,   0,   0,   0,   0,   0,   0,   0,   0,\n",
       "          0,   0,   0,   0,   0,   0,   0,   0,   0,   0,   0,   0,   0,\n",
       "          0,   0],\n",
       "       [  0,   0,   0,   0,   0,   0,   0,   0,   0,   0,   0,   0,   0,\n",
       "          0,   0,   0,   0,   0,   0,   0,   0,   0,   0,   0,   0,   0,\n",
       "          0,   0],\n",
       "       [  0,   0,   0,   0,   0,   0,   0,   0,   0,   0,   0,   0,   0,\n",
       "          0,   0,   0,   0,   0,   0,   0,   0,   0,   0,   0,   0,   0,\n",
       "          0,   0],\n",
       "       [  0,   0,   0,   0,   0,   0,   0,   0,   0,   0,   0,   0,   3,\n",
       "         18,  18,  18, 126, 136, 175,  26, 166, 255, 247, 127,   0,   0,\n",
       "          0,   0],\n",
       "       [  0,   0,   0,   0,   0,   0,   0,   0,  30,  36,  94, 154, 170,\n",
       "        253, 253, 253, 253, 253, 225, 172, 253, 242, 195,  64,   0,   0,\n",
       "          0,   0],\n",
       "       [  0,   0,   0,   0,   0,   0,   0,  49, 238, 253, 253, 253, 253,\n",
       "        253, 253, 253, 253, 251,  93,  82,  82,  56,  39,   0,   0,   0,\n",
       "          0,   0],\n",
       "       [  0,   0,   0,   0,   0,   0,   0,  18, 219, 253, 253, 253, 253,\n",
       "        253, 198, 182, 247, 241,   0,   0,   0,   0,   0,   0,   0,   0,\n",
       "          0,   0],\n",
       "       [  0,   0,   0,   0,   0,   0,   0,   0,  80, 156, 107, 253, 253,\n",
       "        205,  11,   0,  43, 154,   0,   0,   0,   0,   0,   0,   0,   0,\n",
       "          0,   0],\n",
       "       [  0,   0,   0,   0,   0,   0,   0,   0,   0,  14,   1, 154, 253,\n",
       "         90,   0,   0,   0,   0,   0,   0,   0,   0,   0,   0,   0,   0,\n",
       "          0,   0],\n",
       "       [  0,   0,   0,   0,   0,   0,   0,   0,   0,   0,   0, 139, 253,\n",
       "        190,   2,   0,   0,   0,   0,   0,   0,   0,   0,   0,   0,   0,\n",
       "          0,   0],\n",
       "       [  0,   0,   0,   0,   0,   0,   0,   0,   0,   0,   0,  11, 190,\n",
       "        253,  70,   0,   0,   0,   0,   0,   0,   0,   0,   0,   0,   0,\n",
       "          0,   0],\n",
       "       [  0,   0,   0,   0,   0,   0,   0,   0,   0,   0,   0,   0,  35,\n",
       "        241, 225, 160, 108,   1,   0,   0,   0,   0,   0,   0,   0,   0,\n",
       "          0,   0],\n",
       "       [  0,   0,   0,   0,   0,   0,   0,   0,   0,   0,   0,   0,   0,\n",
       "         81, 240, 253, 253, 119,  25,   0,   0,   0,   0,   0,   0,   0,\n",
       "          0,   0],\n",
       "       [  0,   0,   0,   0,   0,   0,   0,   0,   0,   0,   0,   0,   0,\n",
       "          0,  45, 186, 253, 253, 150,  27,   0,   0,   0,   0,   0,   0,\n",
       "          0,   0],\n",
       "       [  0,   0,   0,   0,   0,   0,   0,   0,   0,   0,   0,   0,   0,\n",
       "          0,   0,  16,  93, 252, 253, 187,   0,   0,   0,   0,   0,   0,\n",
       "          0,   0],\n",
       "       [  0,   0,   0,   0,   0,   0,   0,   0,   0,   0,   0,   0,   0,\n",
       "          0,   0,   0,   0, 249, 253, 249,  64,   0,   0,   0,   0,   0,\n",
       "          0,   0],\n",
       "       [  0,   0,   0,   0,   0,   0,   0,   0,   0,   0,   0,   0,   0,\n",
       "          0,  46, 130, 183, 253, 253, 207,   2,   0,   0,   0,   0,   0,\n",
       "          0,   0],\n",
       "       [  0,   0,   0,   0,   0,   0,   0,   0,   0,   0,   0,   0,  39,\n",
       "        148, 229, 253, 253, 253, 250, 182,   0,   0,   0,   0,   0,   0,\n",
       "          0,   0],\n",
       "       [  0,   0,   0,   0,   0,   0,   0,   0,   0,   0,  24, 114, 221,\n",
       "        253, 253, 253, 253, 201,  78,   0,   0,   0,   0,   0,   0,   0,\n",
       "          0,   0],\n",
       "       [  0,   0,   0,   0,   0,   0,   0,   0,  23,  66, 213, 253, 253,\n",
       "        253, 253, 198,  81,   2,   0,   0,   0,   0,   0,   0,   0,   0,\n",
       "          0,   0],\n",
       "       [  0,   0,   0,   0,   0,   0,  18, 171, 219, 253, 253, 253, 253,\n",
       "        195,  80,   9,   0,   0,   0,   0,   0,   0,   0,   0,   0,   0,\n",
       "          0,   0],\n",
       "       [  0,   0,   0,   0,  55, 172, 226, 253, 253, 253, 253, 244, 133,\n",
       "         11,   0,   0,   0,   0,   0,   0,   0,   0,   0,   0,   0,   0,\n",
       "          0,   0],\n",
       "       [  0,   0,   0,   0, 136, 253, 253, 253, 212, 135, 132,  16,   0,\n",
       "          0,   0,   0,   0,   0,   0,   0,   0,   0,   0,   0,   0,   0,\n",
       "          0,   0],\n",
       "       [  0,   0,   0,   0,   0,   0,   0,   0,   0,   0,   0,   0,   0,\n",
       "          0,   0,   0,   0,   0,   0,   0,   0,   0,   0,   0,   0,   0,\n",
       "          0,   0],\n",
       "       [  0,   0,   0,   0,   0,   0,   0,   0,   0,   0,   0,   0,   0,\n",
       "          0,   0,   0,   0,   0,   0,   0,   0,   0,   0,   0,   0,   0,\n",
       "          0,   0],\n",
       "       [  0,   0,   0,   0,   0,   0,   0,   0,   0,   0,   0,   0,   0,\n",
       "          0,   0,   0,   0,   0,   0,   0,   0,   0,   0,   0,   0,   0,\n",
       "          0,   0]], dtype=uint8)"
      ]
     },
     "execution_count": 9,
     "metadata": {},
     "output_type": "execute_result"
    }
   ],
   "source": [
    "X_train[0]"
   ]
  },
  {
   "cell_type": "code",
   "execution_count": 8,
   "id": "d5974c63",
   "metadata": {},
   "outputs": [
    {
     "data": {
      "text/plain": [
       "5"
      ]
     },
     "execution_count": 8,
     "metadata": {},
     "output_type": "execute_result"
    }
   ],
   "source": [
    "y_train[0]"
   ]
  },
  {
   "cell_type": "markdown",
   "id": "557ef0ce",
   "metadata": {},
   "source": [
    "# Pre-processing "
   ]
  },
  {
   "cell_type": "code",
   "execution_count": 16,
   "id": "b32df590",
   "metadata": {},
   "outputs": [
    {
     "name": "stdout",
     "output_type": "stream",
     "text": [
      "(60000, 784)\n"
     ]
    }
   ],
   "source": [
    "X_train_reshape = X_train.reshape(60000, 28*28)\n",
    "print(X_train_reshape.shape)"
   ]
  },
  {
   "cell_type": "code",
   "execution_count": 17,
   "id": "cdaf298c",
   "metadata": {},
   "outputs": [
    {
     "name": "stdout",
     "output_type": "stream",
     "text": [
      "(10000, 784)\n"
     ]
    }
   ],
   "source": [
    "X_test_reshape = X_test.reshape(10000, 28*28)\n",
    "print(X_test_reshape.shape)"
   ]
  },
  {
   "cell_type": "code",
   "execution_count": 6,
   "id": "32015f40",
   "metadata": {},
   "outputs": [
    {
     "data": {
      "text/plain": [
       "Text(0.5, 1.0, '5')"
      ]
     },
     "execution_count": 6,
     "metadata": {},
     "output_type": "execute_result"
    },
    {
     "data": {
      "image/png": "[encoded data removed]",
      "text/plain": [
       "<Figure size 432x288 with 1 Axes>"
      ]
     },
     "metadata": {
      "needs_background": "light"
     },
     "output_type": "display_data"
    }
   ],
   "source": [
    "plt.imshow(X_train[0])\n",
    "plt.title(y_train[0])"
   ]
  },
  {
   "cell_type": "code",
   "execution_count": 7,
   "id": "86decf00",
   "metadata": {},
   "outputs": [
    {
     "data": {
      "text/plain": [
       "Text(0.5, 1.0, '7')"
      ]
     },
     "execution_count": 7,
     "metadata": {},
     "output_type": "execute_result"
    },
    {
     "data": {
      "image/png": "[encoded data removed]",
      "text/plain": [
       "<Figure size 432x288 with 1 Axes>"
      ]
     },
     "metadata": {
      "needs_background": "light"
     },
     "output_type": "display_data"
    }
   ],
   "source": [
    "plt.imshow(X_test[0])\n",
    "plt.title(y_test[0])"
   ]
  },
  {
   "cell_type": "code",
   "execution_count": 29,
   "id": "326155fc",
   "metadata": {},
   "outputs": [
    {
     "data": {
      "text/plain": [
       "array([  0,   0,   0,   0,   0,   0,   0,   0,   0,   0,   0,   0,   0,\n",
       "         0,   0,   0,   0,   0,   0,   0,   0,   0,   0,   0,   0,   0,\n",
       "         0,   0,   0,   0,   0,   0,   0,   0,   0,   0,   0,   0,   0,\n",
       "         0,   0,   0,   0,   0,   0,   0,   0,   0,   0,   0,   0,   0,\n",
       "         0,   0,   0,   0,   0,   0,   0,   0,   0,   0,   0,   0,   0,\n",
       "         0,   0,   0,   0,   0,   0,   0,   0,   0,   0,   0,   0,   0,\n",
       "         0,   0,   0,   0,   0,   0,   0,   0,   0,   0,   0,   0,   0,\n",
       "         0,   0,   0,   0,   0,   0,   0,   0,   0,   0,   0,   0,   0,\n",
       "         0,   0,   0,   0,   0,   0,   0,   0,   0,   0,   0,   0,   0,\n",
       "         0,   0,   0,   0,   0,   0,   0,   0,   0,   0,   0,   0,   0,\n",
       "         0,   0,   0,   0,   0,   0,   0,   0,   0,   0,   0,   0,   0,\n",
       "         0,   0,   0,   0,   0,   0,   0,   0,   0,   3,  18,  18,  18,\n",
       "       126, 136, 175,  26, 166, 255, 247, 127,   0,   0,   0,   0,   0,\n",
       "         0,   0,   0,   0,   0,   0,   0,  30,  36,  94, 154, 170, 253,\n",
       "       253, 253, 253, 253, 225, 172, 253, 242, 195,  64,   0,   0,   0,\n",
       "         0,   0,   0,   0,   0,   0,   0,   0,  49, 238, 253, 253, 253,\n",
       "       253, 253, 253, 253, 253, 251,  93,  82,  82,  56,  39,   0,   0,\n",
       "         0,   0,   0,   0,   0,   0,   0,   0,   0,   0,  18, 219, 253,\n",
       "       253, 253, 253, 253, 198, 182, 247, 241,   0,   0,   0,   0,   0,\n",
       "         0,   0,   0,   0,   0,   0,   0,   0,   0,   0,   0,   0,   0,\n",
       "        80, 156, 107, 253, 253, 205,  11,   0,  43, 154,   0,   0,   0,\n",
       "         0,   0,   0,   0,   0,   0,   0,   0,   0,   0,   0,   0,   0,\n",
       "         0,   0,   0,  14,   1, 154, 253,  90,   0,   0,   0,   0,   0,\n",
       "         0,   0,   0,   0,   0,   0,   0,   0,   0,   0,   0,   0,   0,\n",
       "         0,   0,   0,   0,   0,   0,   0, 139, 253, 190,   2,   0,   0,\n",
       "         0,   0,   0,   0,   0,   0,   0,   0,   0,   0,   0,   0,   0,\n",
       "         0,   0,   0,   0,   0,   0,   0,   0,   0,  11, 190, 253,  70,\n",
       "         0,   0,   0,   0,   0,   0,   0,   0,   0,   0,   0,   0,   0,\n",
       "         0,   0,   0,   0,   0,   0,   0,   0,   0,   0,   0,   0,  35,\n",
       "       241, 225, 160, 108,   1,   0,   0,   0,   0,   0,   0,   0,   0,\n",
       "         0,   0,   0,   0,   0,   0,   0,   0,   0,   0,   0,   0,   0,\n",
       "         0,   0,  81, 240, 253, 253, 119,  25,   0,   0,   0,   0,   0,\n",
       "         0,   0,   0,   0,   0,   0,   0,   0,   0,   0,   0,   0,   0,\n",
       "         0,   0,   0,   0,   0,  45, 186, 253, 253, 150,  27,   0,   0,\n",
       "         0,   0,   0,   0,   0,   0,   0,   0,   0,   0,   0,   0,   0,\n",
       "         0,   0,   0,   0,   0,   0,   0,   0,  16,  93, 252, 253, 187,\n",
       "         0,   0,   0,   0,   0,   0,   0,   0,   0,   0,   0,   0,   0,\n",
       "         0,   0,   0,   0,   0,   0,   0,   0,   0,   0,   0,   0, 249,\n",
       "       253, 249,  64,   0,   0,   0,   0,   0,   0,   0,   0,   0,   0,\n",
       "         0,   0,   0,   0,   0,   0,   0,   0,   0,   0,   0,  46, 130,\n",
       "       183, 253, 253, 207,   2,   0,   0,   0,   0,   0,   0,   0,   0,\n",
       "         0,   0,   0,   0,   0,   0,   0,   0,   0,   0,   0,  39, 148,\n",
       "       229, 253, 253, 253, 250, 182,   0,   0,   0,   0,   0,   0,   0,\n",
       "         0,   0,   0,   0,   0,   0,   0,   0,   0,   0,   0,  24, 114,\n",
       "       221, 253, 253, 253, 253, 201,  78,   0,   0,   0,   0,   0,   0,\n",
       "         0,   0,   0,   0,   0,   0,   0,   0,   0,   0,   0,  23,  66,\n",
       "       213, 253, 253, 253, 253, 198,  81,   2,   0,   0,   0,   0,   0,\n",
       "         0,   0,   0,   0,   0,   0,   0,   0,   0,   0,   0,  18, 171,\n",
       "       219, 253, 253, 253, 253, 195,  80,   9,   0,   0,   0,   0,   0,\n",
       "         0,   0,   0,   0,   0,   0,   0,   0,   0,   0,   0,  55, 172,\n",
       "       226, 253, 253, 253, 253, 244, 133,  11,   0,   0,   0,   0,   0,\n",
       "         0,   0,   0,   0,   0,   0,   0,   0,   0,   0,   0,   0,   0,\n",
       "       136, 253, 253, 253, 212, 135, 132,  16,   0,   0,   0,   0,   0,\n",
       "         0,   0,   0,   0,   0,   0,   0,   0,   0,   0,   0,   0,   0,\n",
       "         0,   0,   0,   0,   0,   0,   0,   0,   0,   0,   0,   0,   0,\n",
       "         0,   0,   0,   0,   0,   0,   0,   0,   0,   0,   0,   0,   0,\n",
       "         0,   0,   0,   0,   0,   0,   0,   0,   0,   0,   0,   0,   0,\n",
       "         0,   0,   0,   0,   0,   0,   0,   0,   0,   0,   0,   0,   0,\n",
       "         0,   0,   0,   0,   0,   0,   0,   0,   0,   0,   0,   0,   0,\n",
       "         0,   0,   0,   0,   0,   0,   0,   0,   0,   0,   0,   0,   0,\n",
       "         0,   0,   0,   0], dtype=uint8)"
      ]
     },
     "execution_count": 29,
     "metadata": {},
     "output_type": "execute_result"
    }
   ],
   "source": [
    "X_train_reshape[0]"
   ]
  },
  {
   "cell_type": "code",
   "execution_count": 25,
   "id": "c3487bd0",
   "metadata": {},
   "outputs": [
    {
     "data": {
      "text/plain": [
       "<AxesSubplot:>"
      ]
     },
     "execution_count": 25,
     "metadata": {},
     "output_type": "execute_result"
    },
    {
     "data": {
      "image/png": "[encoded data removed]",
      "text/plain": [
       "<Figure size 432x288 with 1 Axes>"
      ]
     },
     "metadata": {
      "needs_background": "light"
     },
     "output_type": "display_data"
    }
   ],
   "source": [
    "sns.scatterplot(X_train_reshape[2])"
   ]
  },
  {
   "cell_type": "markdown",
   "id": "ce5e6967",
   "metadata": {},
   "source": [
    "# Model fitting and prediction"
   ]
  },
  {
   "cell_type": "code",
   "execution_count": 8,
   "id": "456e786b",
   "metadata": {},
   "outputs": [
    {
     "name": "stdout",
     "output_type": "stream",
     "text": [
      "KNeighborsClassifier(n_neighbors=3, weights='distance')\n",
      "[5 0 4 ... 5 6 8]\n",
      "Score: 0.9717\n"
     ]
    }
   ],
   "source": [
    "k = 3 #gives best accuracy (check code in 'Rough space' block below for how I've found that out)\n",
    "w_nearestNeighs = NearestNeighbors.KNeighborsClassifier(n_neighbors=k, weights='distance', algorithm='auto', \n",
    "                                                      p=2, metric='minkowski')\n",
    "w_fitted_modelKNN = w_nearestNeighs.fit(X_train_reshape, y_train)\n",
    "print(w_fitted_modelKNN)\n",
    "\n",
    "w_prediction_KNN = w_nearestNeighs.predict(X_train_reshape)\n",
    "print(w_prediction_KNN)\n",
    "\n",
    "w_score_KNN = w_nearestNeighs.score(X_test_reshape, y_test)\n",
    "print(\"Score: \"+str(w_score_KNN))"
   ]
  },
  {
   "cell_type": "markdown",
   "id": "85889374",
   "metadata": {},
   "source": [
    "# Visualizing results"
   ]
  },
  {
   "cell_type": "code",
   "execution_count": 10,
   "id": "2fe045c8",
   "metadata": {},
   "outputs": [
    {
     "data": {
      "image/png": "[encoded data removed]",
      "text/plain": [
       "<Figure size 1080x504 with 30 Axes>"
      ]
     },
     "metadata": {
      "needs_background": "light"
     },
     "output_type": "display_data"
    }
   ],
   "source": [
    "fig = plt.figure(figsize=(15, 7))\n",
    "rows = 3\n",
    "columns = 10\n",
    "for i in range(0, 30):\n",
    "    fig.add_subplot(rows, columns, (i+1))\n",
    "    plt.imshow(X_train[i])\n",
    "    plt.axis('off')\n",
    "    plt.title(w_prediction_KNN[i])"
   ]
  },
  {
   "cell_type": "markdown",
   "id": "55de9601",
   "metadata": {},
   "source": [
    "# Rough space"
   ]
  },
  {
   "cell_type": "markdown",
   "id": "0e0ae1d1",
   "metadata": {},
   "source": [
    "Current accuracy updated: 0.9717 with parameters (n_neighbors=3, weights='distance', algorithm='auto', p=2, metric='minkowski')\n",
    "\n",
    "Progress to get to current accuracy:"
   ]
  },
  {
   "cell_type": "code",
   "execution_count": 11,
   "id": "39470a13",
   "metadata": {},
   "outputs": [
    {
     "name": "stdout",
     "output_type": "stream",
     "text": [
      "KNeighborsClassifier(n_neighbors=1)\n",
      "KNeighborsClassifier(n_neighbors=2)\n",
      "KNeighborsClassifier(n_neighbors=3)\n",
      "KNeighborsClassifier(n_neighbors=4)\n",
      "KNeighborsClassifier()\n",
      "KNeighborsClassifier(n_neighbors=6)\n",
      "KNeighborsClassifier(n_neighbors=7)\n",
      "KNeighborsClassifier(n_neighbors=8)\n",
      "KNeighborsClassifier(n_neighbors=9)\n",
      "KNeighborsClassifier(n_neighbors=10)\n",
      "KNeighborsClassifier(n_neighbors=11)\n",
      "KNeighborsClassifier(n_neighbors=12)\n",
      "KNeighborsClassifier(n_neighbors=13)\n",
      "KNeighborsClassifier(n_neighbors=14)\n",
      "KNeighborsClassifier(n_neighbors=15)\n",
      "KNeighborsClassifier(n_neighbors=16)\n",
      "KNeighborsClassifier(n_neighbors=17)\n",
      "KNeighborsClassifier(n_neighbors=18)\n",
      "KNeighborsClassifier(n_neighbors=19)\n",
      "KNeighborsClassifier(n_neighbors=20)\n",
      "KNeighborsClassifier(n_neighbors=21)\n",
      "KNeighborsClassifier(n_neighbors=22)\n",
      "KNeighborsClassifier(n_neighbors=23)\n",
      "KNeighborsClassifier(n_neighbors=24)\n",
      "KNeighborsClassifier(n_neighbors=25)\n",
      "KNeighborsClassifier(n_neighbors=26)\n",
      "KNeighborsClassifier(n_neighbors=27)\n",
      "KNeighborsClassifier(n_neighbors=28)\n",
      "KNeighborsClassifier(n_neighbors=29)\n",
      "KNeighborsClassifier(n_neighbors=30)\n",
      "[0.9691, 0.9627, 0.9705, 0.9682, 0.9688, 0.9677, 0.9694, 0.967, 0.9659, 0.9665, 0.9668, 0.9661, 0.9653, 0.964, 0.9633, 0.9632, 0.963, 0.9633, 0.9632, 0.9625, 0.963, 0.9618, 0.9619, 0.9608, 0.9609, 0.9612, 0.9604, 0.9602, 0.9593, 0.9596]\n"
     ]
    }
   ],
   "source": [
    "k_scores = [] #values of k with euclidean metric\n",
    "for i in range(1, 31):\n",
    "    k_nearestNeighs = NearestNeighbors.KNeighborsClassifier(n_neighbors=i, weights='uniform', algorithm='auto', \n",
    "                                                      p=2, metric='minkowski')\n",
    "    k_fitted_modelKNN = k_nearestNeighs.fit(X_train_reshape, y_train)\n",
    "    print(k_fitted_modelKNN)\n",
    "    \n",
    "    k_score_KNN = k_nearestNeighs.score(X_test_reshape, y_test)\n",
    "    k_scores.append(k_score_KNN)\n",
    "\n",
    "print(k_scores)"
   ]
  },
  {
   "cell_type": "code",
   "execution_count": 16,
   "id": "406bccf2",
   "metadata": {},
   "outputs": [
    {
     "name": "stdout",
     "output_type": "stream",
     "text": [
      "KNeighborsClassifier(metric='manhattan', n_neighbors=1, p=1)\n",
      "KNeighborsClassifier(metric='manhattan', n_neighbors=2, p=1)\n",
      "KNeighborsClassifier(metric='manhattan', n_neighbors=3, p=1)\n",
      "KNeighborsClassifier(metric='manhattan', n_neighbors=4, p=1)\n",
      "KNeighborsClassifier(metric='manhattan', p=1)\n",
      "KNeighborsClassifier(metric='manhattan', n_neighbors=6, p=1)\n",
      "KNeighborsClassifier(metric='manhattan', n_neighbors=7, p=1)\n",
      "KNeighborsClassifier(metric='manhattan', n_neighbors=8, p=1)\n",
      "KNeighborsClassifier(metric='manhattan', n_neighbors=9, p=1)\n",
      "KNeighborsClassifier(metric='manhattan', n_neighbors=10, p=1)\n",
      "KNeighborsClassifier(metric='manhattan', n_neighbors=11, p=1)\n",
      "KNeighborsClassifier(metric='manhattan', n_neighbors=12, p=1)\n",
      "KNeighborsClassifier(metric='manhattan', n_neighbors=13, p=1)\n",
      "KNeighborsClassifier(metric='manhattan', n_neighbors=14, p=1)\n",
      "KNeighborsClassifier(metric='manhattan', n_neighbors=15, p=1)\n",
      "KNeighborsClassifier(metric='manhattan', n_neighbors=16, p=1)\n",
      "KNeighborsClassifier(metric='manhattan', n_neighbors=17, p=1)\n",
      "KNeighborsClassifier(metric='manhattan', n_neighbors=18, p=1)\n",
      "KNeighborsClassifier(metric='manhattan', n_neighbors=19, p=1)\n",
      "KNeighborsClassifier(metric='manhattan', n_neighbors=20, p=1)\n",
      "KNeighborsClassifier(metric='manhattan', n_neighbors=21, p=1)\n",
      "KNeighborsClassifier(metric='manhattan', n_neighbors=22, p=1)\n",
      "KNeighborsClassifier(metric='manhattan', n_neighbors=23, p=1)\n",
      "KNeighborsClassifier(metric='manhattan', n_neighbors=24, p=1)\n",
      "KNeighborsClassifier(metric='manhattan', n_neighbors=25, p=1)\n",
      "KNeighborsClassifier(metric='manhattan', n_neighbors=26, p=1)\n",
      "KNeighborsClassifier(metric='manhattan', n_neighbors=27, p=1)\n",
      "KNeighborsClassifier(metric='manhattan', n_neighbors=28, p=1)\n",
      "KNeighborsClassifier(metric='manhattan', n_neighbors=29, p=1)\n",
      "KNeighborsClassifier(metric='manhattan', n_neighbors=30, p=1)\n",
      "[0.9631, 0.954, 0.9633, 0.9606, 0.9618, 0.9611, 0.9615, 0.9594, 0.9597, 0.9588, 0.9585, 0.9581, 0.9581, 0.958, 0.9571, 0.9571, 0.9571, 0.9562, 0.9561, 0.9553, 0.9544, 0.9545, 0.954, 0.9539, 0.9532, 0.9527, 0.9521, 0.9518, 0.9521, 0.9514]\n"
     ]
    }
   ],
   "source": [
    "k_scores = [] #various values of k with manhattan metric\n",
    "for i in range(1, 31):\n",
    "    k_nearestNeighs = NearestNeighbors.KNeighborsClassifier(n_neighbors=i, weights='uniform', algorithm='auto', \n",
    "                                                      p=1, metric='manhattan')\n",
    "    k_fitted_modelKNN = k_nearestNeighs.fit(X_train_reshape, y_train)\n",
    "    print(k_fitted_modelKNN)\n",
    "    \n",
    "    k_score_KNN = k_nearestNeighs.score(X_test_reshape, y_test)\n",
    "    k_scores.append(k_score_KNN)\n",
    "\n",
    "print(k_scores)"
   ]
  },
  {
   "cell_type": "code",
   "execution_count": 42,
   "id": "c5138ced",
   "metadata": {},
   "outputs": [
    {
     "name": "stdout",
     "output_type": "stream",
     "text": [
      "KNeighborsClassifier(n_neighbors=3)\n",
      "[5 0 4 ... 5 6 8]\n",
      "Score: 0.9705\n"
     ]
    }
   ],
   "source": [
    "k = 3 \n",
    "nearestNeighs = NearestNeighbors.KNeighborsClassifier(n_neighbors=k, weights='uniform', algorithm='auto', \n",
    "                                                      p=2, metric='minkowski')\n",
    "fitted_modelKNN = nearestNeighs.fit(X_train_reshape, y_train)\n",
    "print(fitted_modelKNN)\n",
    "\n",
    "prediction_KNN = nearestNeighs.predict(X_train_reshape)\n",
    "print(prediction_KNN)\n",
    "\n",
    "score_KNN = nearestNeighs.score(X_test_reshape, y_test)\n",
    "print(\"Score: \"+str(score_KNN))"
   ]
  },
  {
   "cell_type": "code",
   "execution_count": 37,
   "id": "ecc09eac",
   "metadata": {},
   "outputs": [
    {
     "name": "stdout",
     "output_type": "stream",
     "text": [
      "for cv=5, mean cross validated score = 0.9449000000000002\n",
      "for cv=6, mean cross validated score = 0.9453043965036524\n",
      "for cv=7, mean cross validated score = 0.9457049439789912\n",
      "for cv=8, mean cross validated score = 0.9458\n",
      "for cv=9, mean cross validated score = 0.9474027438715095\n",
      "for cv=10, mean cross validated score = 0.9472000000000002\n"
     ]
    }
   ],
   "source": [
    "for i in range(5, 11):\n",
    "    crossValScore = cross_val_score(fitted_modelKNN, X_test_reshape, y_test, cv=i)\n",
    "    print(f\"for cv={i}, mean cross validated score = \"+str(np.mean(crossValScore)))"
   ]
  },
  {
   "cell_type": "code",
   "execution_count": null,
   "id": "cc03f611",
   "metadata": {},
   "outputs": [
    {
     "name": "stdout",
     "output_type": "stream",
     "text": [
      "Fitting 10 folds for each of 144 candidates, totalling 1440 fits\n",
      "[CV 1/10] END algorithm=ball_tree, leaf_size=15, metric=euclidean, n_neighbors=2, weights=uniform;, score=0.967 total time= 3.6min\n",
      "[CV 2/10] END algorithm=ball_tree, leaf_size=15, metric=euclidean, n_neighbors=2, weights=uniform;, score=0.961 total time= 3.6min\n",
      "[CV 3/10] END algorithm=ball_tree, leaf_size=15, metric=euclidean, n_neighbors=2, weights=uniform;, score=0.962 total time= 3.6min\n",
      "[CV 4/10] END algorithm=ball_tree, leaf_size=15, metric=euclidean, n_neighbors=2, weights=uniform;, score=0.968 total time= 3.6min\n",
      "[CV 5/10] END algorithm=ball_tree, leaf_size=15, metric=euclidean, n_neighbors=2, weights=uniform;, score=0.963 total time= 3.6min\n",
      "[CV 6/10] END algorithm=ball_tree, leaf_size=15, metric=euclidean, n_neighbors=2, weights=uniform;, score=0.963 total time= 3.6min\n",
      "[CV 7/10] END algorithm=ball_tree, leaf_size=15, metric=euclidean, n_neighbors=2, weights=uniform;, score=0.968 total time= 3.6min\n",
      "[CV 8/10] END algorithm=ball_tree, leaf_size=15, metric=euclidean, n_neighbors=2, weights=uniform;, score=0.963 total time= 3.6min\n",
      "[CV 9/10] END algorithm=ball_tree, leaf_size=15, metric=euclidean, n_neighbors=2, weights=uniform;, score=0.958 total time= 3.6min\n",
      "[CV 10/10] END algorithm=ball_tree, leaf_size=15, metric=euclidean, n_neighbors=2, weights=uniform;, score=0.972 total time= 3.6min\n",
      "[CV 1/10] END algorithm=ball_tree, leaf_size=15, metric=euclidean, n_neighbors=2, weights=distance;, score=0.976 total time= 3.6min\n",
      "[CV 2/10] END algorithm=ball_tree, leaf_size=15, metric=euclidean, n_neighbors=2, weights=distance;, score=0.968 total time= 3.6min\n",
      "[CV 3/10] END algorithm=ball_tree, leaf_size=15, metric=euclidean, n_neighbors=2, weights=distance;, score=0.969 total time= 3.6min\n",
      "[CV 4/10] END algorithm=ball_tree, leaf_size=15, metric=euclidean, n_neighbors=2, weights=distance;, score=0.974 total time= 3.6min\n",
      "[CV 5/10] END algorithm=ball_tree, leaf_size=15, metric=euclidean, n_neighbors=2, weights=distance;, score=0.969 total time= 3.7min\n",
      "[CV 6/10] END algorithm=ball_tree, leaf_size=15, metric=euclidean, n_neighbors=2, weights=distance;, score=0.971 total time= 3.7min\n",
      "[CV 7/10] END algorithm=ball_tree, leaf_size=15, metric=euclidean, n_neighbors=2, weights=distance;, score=0.971 total time= 3.7min\n"
     ]
    }
   ],
   "source": [
    "parameters = [{'n_neighbors':[2,3,4,5], 'weights':['uniform','distance'], \n",
    "               'algorithm':['ball_tree', 'kd_tree'], 'metric':['euclidean', 'manhattan'], \n",
    "               'leaf_size':[15,20,30]}]\n",
    "\n",
    "Grid = GridSearchCV(NearestNeighbors.KNeighborsClassifier(), parameters, cv=10, refit=True, verbose=3)\n",
    "Grid.fit(X_train_reshape, y_train)\n",
    "\n",
    "print(\"Best estimator: \"+str(Grid.best_estimator_))\n",
    "print(\"Best parameters: \"+str(Grid.best_params_))\n",
    "print(\"Score = \"+(Grid.best_score_))"
   ]
  },
  {
   "cell_type": "code",
   "execution_count": 54,
   "id": "eb3f5b3e",
   "metadata": {},
   "outputs": [
    {
     "data": {
      "text/plain": [
       "dict_keys(['algorithm', 'leaf_size', 'metric', 'metric_params', 'n_jobs', 'n_neighbors', 'p', 'weights'])"
      ]
     },
     "execution_count": 54,
     "metadata": {},
     "output_type": "execute_result"
    }
   ],
   "source": [
    "NearestNeighbors.KNeighborsClassifier().get_params().keys()"
   ]
  },
  {
   "cell_type": "code",
   "execution_count": null,
   "id": "69c8d756",
   "metadata": {},
   "outputs": [],
   "source": []
  }
 ],
 "metadata": {
  "kernelspec": {
   "display_name": "Python 3 (ipykernel)",
   "language": "python",
   "name": "python3"
  },
  "language_info": {
   "codemirror_mode": {
    "name": "ipython",
    "version": 3
   },
   "file_extension": ".py",
   "mimetype": "text/x-python",
   "name": "python",
   "nbconvert_exporter": "python",
   "pygments_lexer": "ipython3",
   "version": "3.9.12"
  }
 },
 "nbformat": 4,
 "nbformat_minor": 5
}
